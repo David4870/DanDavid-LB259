{
 "cells": [
  {
   "cell_type": "code",
   "execution_count": 25,
   "id": "a9d1777b",
   "metadata": {},
   "outputs": [
    {
     "data": {
      "text/html": [
       "<div>\n",
       "<style scoped>\n",
       "    .dataframe tbody tr th:only-of-type {\n",
       "        vertical-align: middle;\n",
       "    }\n",
       "\n",
       "    .dataframe tbody tr th {\n",
       "        vertical-align: top;\n",
       "    }\n",
       "\n",
       "    .dataframe thead th {\n",
       "        text-align: right;\n",
       "    }\n",
       "</style>\n",
       "<table border=\"1\" class=\"dataframe\">\n",
       "  <thead>\n",
       "    <tr style=\"text-align: right;\">\n",
       "      <th></th>\n",
       "      <th>Invoice ID</th>\n",
       "      <th>Branch</th>\n",
       "      <th>City</th>\n",
       "      <th>Customer type</th>\n",
       "      <th>Gender</th>\n",
       "      <th>Product line</th>\n",
       "      <th>Unit price</th>\n",
       "      <th>Quantity</th>\n",
       "      <th>Tax 5%</th>\n",
       "      <th>Total</th>\n",
       "      <th>Date</th>\n",
       "      <th>Time</th>\n",
       "      <th>Payment</th>\n",
       "      <th>cogs</th>\n",
       "      <th>gross margin percentage</th>\n",
       "      <th>gross income</th>\n",
       "      <th>Rating</th>\n",
       "    </tr>\n",
       "  </thead>\n",
       "  <tbody>\n",
       "    <tr>\n",
       "      <th>0</th>\n",
       "      <td>750-67-8428</td>\n",
       "      <td>A</td>\n",
       "      <td>Yangon</td>\n",
       "      <td>Member</td>\n",
       "      <td>Female</td>\n",
       "      <td>Health and beauty</td>\n",
       "      <td>74.69</td>\n",
       "      <td>7</td>\n",
       "      <td>26.1415</td>\n",
       "      <td>548.9715</td>\n",
       "      <td>1/5/2019</td>\n",
       "      <td>13:08</td>\n",
       "      <td>Ewallet</td>\n",
       "      <td>522.83</td>\n",
       "      <td>4.761905</td>\n",
       "      <td>26.1415</td>\n",
       "      <td>9.1</td>\n",
       "    </tr>\n",
       "    <tr>\n",
       "      <th>1</th>\n",
       "      <td>226-31-3081</td>\n",
       "      <td>C</td>\n",
       "      <td>Naypyitaw</td>\n",
       "      <td>Normal</td>\n",
       "      <td>Female</td>\n",
       "      <td>Electronic accessories</td>\n",
       "      <td>15.28</td>\n",
       "      <td>5</td>\n",
       "      <td>3.8200</td>\n",
       "      <td>80.2200</td>\n",
       "      <td>3/8/2019</td>\n",
       "      <td>10:29</td>\n",
       "      <td>Cash</td>\n",
       "      <td>76.40</td>\n",
       "      <td>4.761905</td>\n",
       "      <td>3.8200</td>\n",
       "      <td>9.6</td>\n",
       "    </tr>\n",
       "    <tr>\n",
       "      <th>2</th>\n",
       "      <td>631-41-3108</td>\n",
       "      <td>A</td>\n",
       "      <td>Yangon</td>\n",
       "      <td>Normal</td>\n",
       "      <td>Male</td>\n",
       "      <td>Home and lifestyle</td>\n",
       "      <td>46.33</td>\n",
       "      <td>7</td>\n",
       "      <td>16.2155</td>\n",
       "      <td>340.5255</td>\n",
       "      <td>3/3/2019</td>\n",
       "      <td>13:23</td>\n",
       "      <td>Credit card</td>\n",
       "      <td>324.31</td>\n",
       "      <td>4.761905</td>\n",
       "      <td>16.2155</td>\n",
       "      <td>7.4</td>\n",
       "    </tr>\n",
       "    <tr>\n",
       "      <th>3</th>\n",
       "      <td>123-19-1176</td>\n",
       "      <td>A</td>\n",
       "      <td>Yangon</td>\n",
       "      <td>Member</td>\n",
       "      <td>Male</td>\n",
       "      <td>Health and beauty</td>\n",
       "      <td>58.22</td>\n",
       "      <td>8</td>\n",
       "      <td>23.2880</td>\n",
       "      <td>489.0480</td>\n",
       "      <td>1/27/2019</td>\n",
       "      <td>20:33</td>\n",
       "      <td>Ewallet</td>\n",
       "      <td>465.76</td>\n",
       "      <td>4.761905</td>\n",
       "      <td>23.2880</td>\n",
       "      <td>8.4</td>\n",
       "    </tr>\n",
       "    <tr>\n",
       "      <th>4</th>\n",
       "      <td>373-73-7910</td>\n",
       "      <td>A</td>\n",
       "      <td>Yangon</td>\n",
       "      <td>Normal</td>\n",
       "      <td>Male</td>\n",
       "      <td>Sports and travel</td>\n",
       "      <td>86.31</td>\n",
       "      <td>7</td>\n",
       "      <td>30.2085</td>\n",
       "      <td>634.3785</td>\n",
       "      <td>2/8/2019</td>\n",
       "      <td>10:37</td>\n",
       "      <td>Ewallet</td>\n",
       "      <td>604.17</td>\n",
       "      <td>4.761905</td>\n",
       "      <td>30.2085</td>\n",
       "      <td>5.3</td>\n",
       "    </tr>\n",
       "  </tbody>\n",
       "</table>\n",
       "</div>"
      ],
      "text/plain": [
       "    Invoice ID Branch       City Customer type  Gender  \\\n",
       "0  750-67-8428      A     Yangon        Member  Female   \n",
       "1  226-31-3081      C  Naypyitaw        Normal  Female   \n",
       "2  631-41-3108      A     Yangon        Normal    Male   \n",
       "3  123-19-1176      A     Yangon        Member    Male   \n",
       "4  373-73-7910      A     Yangon        Normal    Male   \n",
       "\n",
       "             Product line  Unit price  Quantity   Tax 5%     Total       Date  \\\n",
       "0       Health and beauty       74.69         7  26.1415  548.9715   1/5/2019   \n",
       "1  Electronic accessories       15.28         5   3.8200   80.2200   3/8/2019   \n",
       "2      Home and lifestyle       46.33         7  16.2155  340.5255   3/3/2019   \n",
       "3       Health and beauty       58.22         8  23.2880  489.0480  1/27/2019   \n",
       "4       Sports and travel       86.31         7  30.2085  634.3785   2/8/2019   \n",
       "\n",
       "    Time      Payment    cogs  gross margin percentage  gross income  Rating  \n",
       "0  13:08      Ewallet  522.83                 4.761905       26.1415     9.1  \n",
       "1  10:29         Cash   76.40                 4.761905        3.8200     9.6  \n",
       "2  13:23  Credit card  324.31                 4.761905       16.2155     7.4  \n",
       "3  20:33      Ewallet  465.76                 4.761905       23.2880     8.4  \n",
       "4  10:37      Ewallet  604.17                 4.761905       30.2085     5.3  "
      ]
     },
     "execution_count": 25,
     "metadata": {},
     "output_type": "execute_result"
    }
   ],
   "source": [
    "import pandas as pd\n",
    "\n",
    "\n",
    "sales = pd.read_csv(\"supermarket_sales.csv\")\n",
    "\n",
    "sales.head()"
   ]
  },
  {
   "cell_type": "code",
   "execution_count": 36,
   "id": "a0ea88d7",
   "metadata": {},
   "outputs": [],
   "source": [
    "X = sales.drop(columns=[\"Branch\", \"Invoice ID\", \"City\", \"Customer type\", \"Gender\", \"Product line\", \"Quantity\", \"Tax 5%\",\n",
    "                       \"Total\", \"Date\", \"Time\", \"Payment\", \"cogs\", \"gross margin percentage\", \"gross income\"]) # features\n",
    "# Achtung, ich habe die funktion drop() gebraucht. Das heisst, dass ich alle Felder als feature genommen habe, die sich nicht\n",
    "# in der oberen Liste befinden.\n",
    "y = sales[\"City\"] # target"
   ]
  },
  {
   "cell_type": "code",
   "execution_count": 59,
   "id": "6f93180f",
   "metadata": {},
   "outputs": [
    {
     "data": {
      "text/plain": [
       "(700, 300)"
      ]
     },
     "execution_count": 59,
     "metadata": {},
     "output_type": "execute_result"
    }
   ],
   "source": [
    "from sklearn.model_selection import train_test_split\n",
    "from sklearn.metrics import accuracy_score\n",
    "\n",
    "X_train, X_test, y_train, y_test = train_test_split(\n",
    "    X, y, test_size=0.3, random_state=42\n",
    ")\n",
    "\n",
    "len(X_train), len(X_test)"
   ]
  },
  {
   "cell_type": "markdown",
   "id": "ff63f9fd",
   "metadata": {},
   "source": [
    "# 4.1\n",
    " Bestimmen Sie, welche Felder Ihrer Daten für Ihr Modell besonders \n",
    "aussagekräftig sind.\n",
    "> Wie aussagekräftig die verschiedene Felder sind ist abhängig von der Art der Vorhersage. Als Features habe ich Unit price also der Produktpreis und Quantity genommen. Am meisten Aussagekräftig sind die Felder `Unit price` und `Quantity`. Anhand von diesen Daten möchte ich herausfinden in welcher Stadt am meisten Produkte verkauft worden sind."
   ]
  },
  {
   "cell_type": "markdown",
   "id": "2cec3575",
   "metadata": {},
   "source": [
    "# 4.2\n",
    " Wählen Sie eine geeignete Messmetrik für Ihr Modell und berechnen \n",
    "Sie sie."
   ]
  },
  {
   "cell_type": "code",
   "execution_count": 22,
   "id": "610c07db",
   "metadata": {},
   "outputs": [
    {
     "name": "stdout",
     "output_type": "stream",
     "text": [
      "                        precision    recall  f1-score   support\n",
      "\n",
      "Electronic accessories       1.00      1.00      1.00        56\n",
      "   Fashion accessories       1.00      1.00      1.00        53\n",
      "    Food and beverages       1.00      1.00      1.00        44\n",
      "     Health and beauty       1.00      1.00      1.00        49\n",
      "    Home and lifestyle       1.00      1.00      1.00        47\n",
      "     Sports and travel       1.00      1.00      1.00        51\n",
      "\n",
      "              accuracy                           1.00       300\n",
      "             macro avg       1.00      1.00      1.00       300\n",
      "          weighted avg       1.00      1.00      1.00       300\n",
      "\n"
     ]
    }
   ],
   "source": [
    "from sklearn.metrics import classification_report\n",
    "print(classification_report(y_test, y_test))"
   ]
  },
  {
   "cell_type": "markdown",
   "id": "35e0a452",
   "metadata": {},
   "source": [
    "# 4.3\n",
    " Wählen Sie geeignete Bedingungen und erstellen Sie eine \n",
    "Wahrheitsmatrix für Ihr Modell. Berechnen Sie darüber hinaus Sensitivität \n",
    "und Spezifizität."
   ]
  },
  {
   "cell_type": "code",
   "execution_count": 94,
   "id": "a8e4af88",
   "metadata": {},
   "outputs": [
    {
     "name": "stdout",
     "output_type": "stream",
     "text": [
      "0.7263157894736842\n"
     ]
    }
   ],
   "source": [
    "# Operation & accuracy\n",
    "TP= 44\n",
    "TN = 25\n",
    "FP = 10\n",
    "FN = 16\n",
    "accuracy = (TP + TN)/(TP + TN + FP + FN)\n",
    "print(accuracy)"
   ]
  },
  {
   "cell_type": "code",
   "execution_count": 77,
   "id": "1f90620f",
   "metadata": {},
   "outputs": [
    {
     "name": "stdout",
     "output_type": "stream",
     "text": [
      "recall: 1.00\n"
     ]
    }
   ],
   "source": [
    "# Sensivität\n",
    "TP = 120\n",
    "FN = 0\n",
    "recall = TP / (TP + FN)\n",
    "print(f\"recall: {recall:4.2f}\")"
   ]
  },
  {
   "cell_type": "code",
   "execution_count": 74,
   "id": "3e9a8786",
   "metadata": {},
   "outputs": [
    {
     "name": "stdout",
     "output_type": "stream",
     "text": [
      "  FN    FP   TP     pre   acc   rec   f1\n",
      "  0.00  0.00 93.00  1.00  1.00  1.00  1.00\n",
      "  1.00  0.00 92.00  1.00  0.99  0.99  0.99\n",
      "  1.00  1.00 91.00  0.99  0.98  0.99  0.99\n",
      "  2.00  0.00 91.00  1.00  0.98  0.98  0.99\n",
      "  2.00  1.00 90.00  0.99  0.98  0.98  0.98\n",
      "  2.00  2.00 89.00  0.98  0.97  0.98  0.98\n",
      "  3.00  0.00 90.00  1.00  0.98  0.97  0.98\n",
      "  3.00  1.00 89.00  0.99  0.97  0.97  0.98\n",
      "  3.00  2.00 88.00  0.98  0.96  0.97  0.97\n",
      "  3.00  3.00 87.00  0.97  0.95  0.97  0.97\n",
      "  4.00  0.00 89.00  1.00  0.97  0.96  0.98\n",
      "  4.00  1.00 88.00  0.99  0.96  0.96  0.97\n",
      "  4.00  2.00 87.00  0.98  0.95  0.96  0.97\n",
      "  4.00  3.00 86.00  0.97  0.94  0.96  0.96\n",
      "  4.00  4.00 85.00  0.96  0.94  0.96  0.96\n",
      "  5.00  0.00 88.00  1.00  0.96  0.95  0.97\n",
      "  5.00  1.00 87.00  0.99  0.95  0.95  0.97\n",
      "  5.00  2.00 86.00  0.98  0.94  0.95  0.96\n",
      "  5.00  3.00 85.00  0.97  0.94  0.94  0.96\n",
      "  5.00  4.00 84.00  0.95  0.93  0.94  0.95\n",
      "  5.00  5.00 83.00  0.94  0.92  0.94  0.94\n",
      "  6.00  0.00 87.00  1.00  0.95  0.94  0.97\n",
      "  6.00  1.00 86.00  0.99  0.94  0.93  0.96\n",
      "  6.00  2.00 85.00  0.98  0.94  0.93  0.96\n",
      "  6.00  3.00 84.00  0.97  0.93  0.93  0.95\n",
      "  6.00  4.00 83.00  0.95  0.92  0.93  0.94\n",
      "  6.00  5.00 82.00  0.94  0.91  0.93  0.94\n",
      "  6.00  6.00 81.00  0.93  0.90  0.93  0.93\n"
     ]
    }
   ],
   "source": [
    "# Spezifizität\n",
    "TF = 7 \n",
    "print(\"  FN    FP   TP     pre   acc   rec   f1\")\n",
    "for FN in range(0, 7):\n",
    "    for FP in range(0, FN+1):\n",
    "        TP = 100 - FN - FP - TF\n",
    "        #print(FN, FP, TP, FN+FP+TP+TF)\n",
    "        precision = TP / (TP + FP)\n",
    "        accuracy = (TP + TN)/(TP + TN + FP + FN)\n",
    "        recall = TP / (TP + FN)\n",
    "        f1_score = 2 * precision * recall / (precision + recall)\n",
    "        print(f\"{FN:6.2f}{FP:6.2f}{TP:6.2f}\", end=\"\")\n",
    "        print(f\"{precision:6.2f}{accuracy:6.2f}{recall:6.2f}{f1_score:6.2f}\")"
   ]
  },
  {
   "cell_type": "markdown",
   "id": "c33bb3c6",
   "metadata": {},
   "source": [
    "# 4.4\n",
    "Fassen Sie in 50 bis 100 Wörtern zusammen, wie gut Ihr Modell \n",
    "funktioniert, und stellen Sie Hypothesen auf, warum.\n",
    "> Das Modell könnte besser funktionieren. Richtige Aussagen werden ab und zu richtig getroffen, aber oft auch nicht. Wenn ich z.B. 80 für das Unit price und 6.2 für das Rating eingeben wird eine bestimmte Stadt ausgegeben. Anhand von den vorhandenen Daten sieht man, dass das Resultat gar nicht die Stadt \"Naypyitaw\" sein kann bei so einem hohen Produktpreis und so einen Rating."
   ]
  },
  {
   "cell_type": "markdown",
   "id": "19dc1e2e",
   "metadata": {},
   "source": [
    "# 4.5\n",
    " Falls sich die Adresse Ihres repository geändert haben sollte, so senden \n",
    "Sie es via Formular an Ihre Lehrperson.\n",
    "\n",
    "`Adresse bleibt gleich`"
   ]
  }
 ],
 "metadata": {
  "kernelspec": {
   "display_name": "Python 3 (ipykernel)",
   "language": "python",
   "name": "python3"
  },
  "language_info": {
   "codemirror_mode": {
    "name": "ipython",
    "version": 3
   },
   "file_extension": ".py",
   "mimetype": "text/x-python",
   "name": "python",
   "nbconvert_exporter": "python",
   "pygments_lexer": "ipython3",
   "version": "3.9.10"
  }
 },
 "nbformat": 4,
 "nbformat_minor": 5
}
