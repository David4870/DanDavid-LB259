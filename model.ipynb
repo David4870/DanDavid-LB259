{
 "cells": [
  {
   "cell_type": "code",
   "execution_count": 43,
   "id": "64af6edb",
   "metadata": {},
   "outputs": [
    {
     "data": {
      "text/html": [
       "<div>\n",
       "<style scoped>\n",
       "    .dataframe tbody tr th:only-of-type {\n",
       "        vertical-align: middle;\n",
       "    }\n",
       "\n",
       "    .dataframe tbody tr th {\n",
       "        vertical-align: top;\n",
       "    }\n",
       "\n",
       "    .dataframe thead th {\n",
       "        text-align: right;\n",
       "    }\n",
       "</style>\n",
       "<table border=\"1\" class=\"dataframe\">\n",
       "  <thead>\n",
       "    <tr style=\"text-align: right;\">\n",
       "      <th></th>\n",
       "      <th>Invoice ID</th>\n",
       "      <th>Branch</th>\n",
       "      <th>City</th>\n",
       "      <th>Customer type</th>\n",
       "      <th>Gender</th>\n",
       "      <th>Product line</th>\n",
       "      <th>Unit price</th>\n",
       "      <th>Quantity</th>\n",
       "      <th>Tax 5%</th>\n",
       "      <th>Total</th>\n",
       "      <th>Date</th>\n",
       "      <th>Time</th>\n",
       "      <th>Payment</th>\n",
       "      <th>cogs</th>\n",
       "      <th>gross margin percentage</th>\n",
       "      <th>gross income</th>\n",
       "      <th>Rating</th>\n",
       "    </tr>\n",
       "  </thead>\n",
       "  <tbody>\n",
       "    <tr>\n",
       "      <th>0</th>\n",
       "      <td>750-67-8428</td>\n",
       "      <td>A</td>\n",
       "      <td>Yangon</td>\n",
       "      <td>Member</td>\n",
       "      <td>Female</td>\n",
       "      <td>Health and beauty</td>\n",
       "      <td>74.69</td>\n",
       "      <td>7</td>\n",
       "      <td>26.1415</td>\n",
       "      <td>548.9715</td>\n",
       "      <td>1/5/2019</td>\n",
       "      <td>13:08</td>\n",
       "      <td>Ewallet</td>\n",
       "      <td>522.83</td>\n",
       "      <td>4.761905</td>\n",
       "      <td>26.1415</td>\n",
       "      <td>9.1</td>\n",
       "    </tr>\n",
       "    <tr>\n",
       "      <th>1</th>\n",
       "      <td>226-31-3081</td>\n",
       "      <td>C</td>\n",
       "      <td>Naypyitaw</td>\n",
       "      <td>Normal</td>\n",
       "      <td>Female</td>\n",
       "      <td>Electronic accessories</td>\n",
       "      <td>15.28</td>\n",
       "      <td>5</td>\n",
       "      <td>3.8200</td>\n",
       "      <td>80.2200</td>\n",
       "      <td>3/8/2019</td>\n",
       "      <td>10:29</td>\n",
       "      <td>Cash</td>\n",
       "      <td>76.40</td>\n",
       "      <td>4.761905</td>\n",
       "      <td>3.8200</td>\n",
       "      <td>9.6</td>\n",
       "    </tr>\n",
       "    <tr>\n",
       "      <th>2</th>\n",
       "      <td>631-41-3108</td>\n",
       "      <td>A</td>\n",
       "      <td>Yangon</td>\n",
       "      <td>Normal</td>\n",
       "      <td>Male</td>\n",
       "      <td>Home and lifestyle</td>\n",
       "      <td>46.33</td>\n",
       "      <td>7</td>\n",
       "      <td>16.2155</td>\n",
       "      <td>340.5255</td>\n",
       "      <td>3/3/2019</td>\n",
       "      <td>13:23</td>\n",
       "      <td>Credit card</td>\n",
       "      <td>324.31</td>\n",
       "      <td>4.761905</td>\n",
       "      <td>16.2155</td>\n",
       "      <td>7.4</td>\n",
       "    </tr>\n",
       "    <tr>\n",
       "      <th>3</th>\n",
       "      <td>123-19-1176</td>\n",
       "      <td>A</td>\n",
       "      <td>Yangon</td>\n",
       "      <td>Member</td>\n",
       "      <td>Male</td>\n",
       "      <td>Health and beauty</td>\n",
       "      <td>58.22</td>\n",
       "      <td>8</td>\n",
       "      <td>23.2880</td>\n",
       "      <td>489.0480</td>\n",
       "      <td>1/27/2019</td>\n",
       "      <td>20:33</td>\n",
       "      <td>Ewallet</td>\n",
       "      <td>465.76</td>\n",
       "      <td>4.761905</td>\n",
       "      <td>23.2880</td>\n",
       "      <td>8.4</td>\n",
       "    </tr>\n",
       "    <tr>\n",
       "      <th>4</th>\n",
       "      <td>373-73-7910</td>\n",
       "      <td>A</td>\n",
       "      <td>Yangon</td>\n",
       "      <td>Normal</td>\n",
       "      <td>Male</td>\n",
       "      <td>Sports and travel</td>\n",
       "      <td>86.31</td>\n",
       "      <td>7</td>\n",
       "      <td>30.2085</td>\n",
       "      <td>634.3785</td>\n",
       "      <td>2/8/2019</td>\n",
       "      <td>10:37</td>\n",
       "      <td>Ewallet</td>\n",
       "      <td>604.17</td>\n",
       "      <td>4.761905</td>\n",
       "      <td>30.2085</td>\n",
       "      <td>5.3</td>\n",
       "    </tr>\n",
       "  </tbody>\n",
       "</table>\n",
       "</div>"
      ],
      "text/plain": [
       "    Invoice ID Branch       City Customer type  Gender  \\\n",
       "0  750-67-8428      A     Yangon        Member  Female   \n",
       "1  226-31-3081      C  Naypyitaw        Normal  Female   \n",
       "2  631-41-3108      A     Yangon        Normal    Male   \n",
       "3  123-19-1176      A     Yangon        Member    Male   \n",
       "4  373-73-7910      A     Yangon        Normal    Male   \n",
       "\n",
       "             Product line  Unit price  Quantity   Tax 5%     Total       Date  \\\n",
       "0       Health and beauty       74.69         7  26.1415  548.9715   1/5/2019   \n",
       "1  Electronic accessories       15.28         5   3.8200   80.2200   3/8/2019   \n",
       "2      Home and lifestyle       46.33         7  16.2155  340.5255   3/3/2019   \n",
       "3       Health and beauty       58.22         8  23.2880  489.0480  1/27/2019   \n",
       "4       Sports and travel       86.31         7  30.2085  634.3785   2/8/2019   \n",
       "\n",
       "    Time      Payment    cogs  gross margin percentage  gross income  Rating  \n",
       "0  13:08      Ewallet  522.83                 4.761905       26.1415     9.1  \n",
       "1  10:29         Cash   76.40                 4.761905        3.8200     9.6  \n",
       "2  13:23  Credit card  324.31                 4.761905       16.2155     7.4  \n",
       "3  20:33      Ewallet  465.76                 4.761905       23.2880     8.4  \n",
       "4  10:37      Ewallet  604.17                 4.761905       30.2085     5.3  "
      ]
     },
     "execution_count": 43,
     "metadata": {},
     "output_type": "execute_result"
    }
   ],
   "source": [
    "import pandas as pd\n",
    "\n",
    "\n",
    "sales = pd.read_csv(\"supermarket_sales.csv\")\n",
    "\n",
    "sales.head()"
   ]
  },
  {
   "cell_type": "code",
   "execution_count": 218,
   "id": "586e9ccf",
   "metadata": {
    "scrolled": true
   },
   "outputs": [],
   "source": [
    "X = sales.drop(columns=[\"Branch\", \"Invoice ID\", \"City\", \"Customer type\", \"Gender\", \"Product line\", \"Quantity\", \"Tax 5%\",\n",
    "                       \"Total\", \"Date\", \"Time\", \"Payment\", \"cogs\", \"gross margin percentage\", \"gross income\"]) # features\n",
    "# Achtung, ich habe die funktion drop() gebraucht. Das heisst, dass ich alle Felder als feature genommen habe, die sich nicht\n",
    "# in der oberen Liste befinden.\n",
    "\n",
    "y = sales[\"City\"] # target"
   ]
  },
  {
   "cell_type": "markdown",
   "id": "8521d369",
   "metadata": {},
   "source": [
    "# 3.1\n",
    "Teilen Sie Ihren Datensatz in einen test- und einen train-Satz ein."
   ]
  },
  {
   "cell_type": "code",
   "execution_count": 122,
   "id": "d0121b74",
   "metadata": {},
   "outputs": [
    {
     "data": {
      "text/plain": [
       "(700, 300)"
      ]
     },
     "execution_count": 122,
     "metadata": {},
     "output_type": "execute_result"
    }
   ],
   "source": [
    "from sklearn.model_selection import train_test_split\n",
    "from sklearn.metrics import accuracy_score\n",
    "\n",
    "X_train, X_test, y_train, y_test = train_test_split(\n",
    "    X, y, test_size=0.3, random_state=42\n",
    ")\n",
    "\n",
    "len(X_train), len(X_test)"
   ]
  },
  {
   "cell_type": "markdown",
   "id": "9f47d4d4",
   "metadata": {},
   "source": [
    "# 3.2\n",
    "Bestimmen Sie einen Algorithmus aus sklearn, der für Ihren Datensatz und Ihr Problem geeignet ist. Erklären Sie Ihre Entscheidung in 50 bis 100 Wörtern. Alternativ dazu können Sie auch verschiedene Algorithmen evaluieren und so bestimmen, welcher am besten geeignet ist. Berechnen Sie ein Modell mittels Ihres ausgesuchten Algorithmus auf Ihren train-Daten.\n",
    "### Decision Tree\n",
    "> Ich habe mich für den Decision Tree Algorithmus entschieden. Die Vorteile des Algotithmus sind aus meiner Sicht sehr passend für meinen Datensatz. Decision Tree ist fähig, sowohl numerische als auch kategorische Daten zu verarbeiten. In meinem Fall, gehört das target zu den kategorischen Daten und die features zu den numerischen Daten. Decision Tree braucht wenig Datenvorbereitung. Dazu ist der Algorithmus allgemein einfach zu verstehen und zu interpretieren."
   ]
  },
  {
   "cell_type": "markdown",
   "id": "8cbc61d9",
   "metadata": {},
   "source": [
    "# 3.3\n",
    "Testen Sie, wie gut Ihr Modell funktioniert, indem Sie einige Vorhersagen aus dem test-Datensatz generieren und diese manuell auf ihre Sinnhaftigkeit überprüfen. Fassen Sie Ihre Erkenntnisse in 50 bis 100 Wörtern zusammen."
   ]
  },
  {
   "cell_type": "code",
   "execution_count": 356,
   "id": "4d70f89c",
   "metadata": {},
   "outputs": [
    {
     "name": "stdout",
     "output_type": "stream",
     "text": [
      "Score = 0.37\n"
     ]
    },
    {
     "data": {
      "text/plain": [
       "array(['Yangon', 'Yangon', 'Mandalay', 'Naypyitaw', 'Yangon', 'Yangon',\n",
       "       'Mandalay', 'Naypyitaw', 'Naypyitaw', 'Mandalay', 'Yangon',\n",
       "       'Naypyitaw', 'Yangon', 'Naypyitaw', 'Mandalay', 'Mandalay',\n",
       "       'Mandalay', 'Mandalay', 'Yangon', 'Yangon', 'Yangon', 'Mandalay',\n",
       "       'Yangon', 'Yangon', 'Yangon', 'Yangon', 'Naypyitaw', 'Mandalay',\n",
       "       'Yangon', 'Yangon', 'Mandalay', 'Mandalay', 'Naypyitaw',\n",
       "       'Mandalay', 'Mandalay', 'Yangon', 'Yangon', 'Yangon', 'Yangon',\n",
       "       'Naypyitaw', 'Naypyitaw', 'Mandalay', 'Mandalay', 'Yangon',\n",
       "       'Yangon', 'Mandalay', 'Mandalay', 'Yangon', 'Mandalay', 'Yangon',\n",
       "       'Mandalay', 'Yangon', 'Naypyitaw', 'Naypyitaw', 'Yangon',\n",
       "       'Naypyitaw', 'Mandalay', 'Mandalay', 'Naypyitaw', 'Mandalay',\n",
       "       'Mandalay', 'Naypyitaw', 'Mandalay', 'Mandalay', 'Yangon',\n",
       "       'Naypyitaw', 'Naypyitaw', 'Mandalay', 'Naypyitaw', 'Yangon',\n",
       "       'Mandalay', 'Yangon', 'Yangon', 'Naypyitaw', 'Yangon', 'Mandalay',\n",
       "       'Yangon', 'Yangon', 'Mandalay', 'Naypyitaw', 'Naypyitaw',\n",
       "       'Mandalay', 'Mandalay', 'Naypyitaw', 'Yangon', 'Mandalay',\n",
       "       'Mandalay', 'Naypyitaw', 'Yangon', 'Mandalay', 'Mandalay',\n",
       "       'Naypyitaw', 'Mandalay', 'Yangon', 'Naypyitaw', 'Naypyitaw',\n",
       "       'Mandalay', 'Mandalay', 'Naypyitaw', 'Mandalay', 'Yangon',\n",
       "       'Yangon', 'Naypyitaw', 'Naypyitaw', 'Naypyitaw', 'Naypyitaw',\n",
       "       'Yangon', 'Naypyitaw', 'Naypyitaw', 'Yangon', 'Naypyitaw',\n",
       "       'Naypyitaw', 'Naypyitaw', 'Yangon', 'Yangon', 'Naypyitaw',\n",
       "       'Mandalay', 'Yangon', 'Yangon', 'Mandalay', 'Yangon', 'Yangon',\n",
       "       'Mandalay', 'Naypyitaw', 'Naypyitaw', 'Mandalay', 'Mandalay',\n",
       "       'Yangon', 'Yangon', 'Yangon', 'Yangon', 'Mandalay', 'Yangon',\n",
       "       'Mandalay', 'Mandalay', 'Yangon', 'Naypyitaw', 'Mandalay',\n",
       "       'Naypyitaw', 'Naypyitaw', 'Yangon', 'Mandalay', 'Mandalay',\n",
       "       'Naypyitaw', 'Naypyitaw', 'Yangon', 'Naypyitaw', 'Mandalay',\n",
       "       'Naypyitaw', 'Naypyitaw', 'Naypyitaw', 'Naypyitaw', 'Mandalay',\n",
       "       'Mandalay', 'Naypyitaw', 'Naypyitaw', 'Yangon', 'Yangon',\n",
       "       'Mandalay', 'Yangon', 'Naypyitaw', 'Mandalay', 'Mandalay',\n",
       "       'Mandalay', 'Naypyitaw', 'Naypyitaw', 'Yangon', 'Yangon', 'Yangon',\n",
       "       'Mandalay', 'Mandalay', 'Mandalay', 'Mandalay', 'Naypyitaw',\n",
       "       'Mandalay', 'Yangon', 'Yangon', 'Yangon', 'Yangon', 'Mandalay',\n",
       "       'Mandalay', 'Yangon', 'Yangon', 'Mandalay', 'Naypyitaw', 'Yangon',\n",
       "       'Yangon', 'Naypyitaw', 'Naypyitaw', 'Naypyitaw', 'Naypyitaw',\n",
       "       'Yangon', 'Mandalay', 'Naypyitaw', 'Yangon', 'Naypyitaw',\n",
       "       'Mandalay', 'Naypyitaw', 'Yangon', 'Yangon', 'Yangon', 'Naypyitaw',\n",
       "       'Mandalay', 'Mandalay', 'Mandalay', 'Naypyitaw', 'Yangon',\n",
       "       'Naypyitaw', 'Mandalay', 'Yangon', 'Naypyitaw', 'Mandalay',\n",
       "       'Naypyitaw', 'Naypyitaw', 'Naypyitaw', 'Yangon', 'Naypyitaw',\n",
       "       'Yangon', 'Naypyitaw', 'Yangon', 'Yangon', 'Naypyitaw', 'Mandalay',\n",
       "       'Yangon', 'Yangon', 'Naypyitaw', 'Yangon', 'Naypyitaw',\n",
       "       'Naypyitaw', 'Naypyitaw', 'Yangon', 'Naypyitaw', 'Naypyitaw',\n",
       "       'Yangon', 'Mandalay', 'Yangon', 'Yangon', 'Yangon', 'Yangon',\n",
       "       'Mandalay', 'Yangon', 'Mandalay', 'Yangon', 'Yangon', 'Yangon',\n",
       "       'Naypyitaw', 'Naypyitaw', 'Mandalay', 'Mandalay', 'Yangon',\n",
       "       'Naypyitaw', 'Mandalay', 'Mandalay', 'Mandalay', 'Naypyitaw',\n",
       "       'Yangon', 'Yangon', 'Naypyitaw', 'Mandalay', 'Naypyitaw', 'Yangon',\n",
       "       'Naypyitaw', 'Mandalay', 'Yangon', 'Mandalay', 'Mandalay',\n",
       "       'Naypyitaw', 'Mandalay', 'Yangon', 'Mandalay', 'Yangon',\n",
       "       'Naypyitaw', 'Mandalay', 'Naypyitaw', 'Yangon', 'Naypyitaw',\n",
       "       'Yangon', 'Mandalay', 'Mandalay', 'Naypyitaw', 'Mandalay',\n",
       "       'Mandalay', 'Naypyitaw', 'Yangon', 'Mandalay', 'Yangon', 'Yangon',\n",
       "       'Mandalay', 'Mandalay', 'Naypyitaw', 'Naypyitaw', 'Naypyitaw',\n",
       "       'Yangon', 'Yangon', 'Yangon', 'Mandalay', 'Naypyitaw', 'Yangon',\n",
       "       'Yangon', 'Yangon'], dtype=object)"
      ]
     },
     "execution_count": 356,
     "metadata": {},
     "output_type": "execute_result"
    }
   ],
   "source": [
    "from sklearn.tree import DecisionTreeClassifier\n",
    "\n",
    "model = DecisionTreeClassifier()\n",
    "model.fit(X_train.values, y_train) \n",
    "predictions = model.predict([ [80, 6.2] ])\n",
    "predictions\n",
    "\n",
    "predictions = model.predict(X_test.values)\n",
    "score = accuracy_score(y_test, predictions)\n",
    "print(f\"Score = {score}\")\n",
    "predictions"
   ]
  },
  {
   "cell_type": "markdown",
   "id": "a290ba37",
   "metadata": {},
   "source": [
    "### Erkenntnisse\n",
    "> Zuerst habe ich manuell Daten eingegeben für die Feature-Felder die ich ausgewählt habe. Ich muss sagen, dass das Resultat nicht schlecht aussieht. Die Resultate waren öfter sinnvoll als nicht sinnvoll. Danach habe ich mich gefragt, ob die genauigkeit auch so gut aussieht mit Hilfe der Funktion \"accuracy_score\". Auf dem ersten Blick kann man sagen, dass das Modell leider nicht der genauste ist. Mir ist bewusst, dass die Menge der Daten vor allem die Begründung sind für das schlechte Score. Mein Datensatz war ebenfalls zu gross, darum habe ich die ersten 1000 Zeilen genommen."
   ]
  },
  {
   "cell_type": "markdown",
   "id": "7bcb8011",
   "metadata": {},
   "source": [
    "# 3.4\n",
    "Falls sich die Adresse Ihres repository geändert haben sollte, so senden Sie es via Formular an Ihre Lehrperson.\n",
    "\n",
    "`Adresse bleibt gleich`"
   ]
  }
 ],
 "metadata": {
  "kernelspec": {
   "display_name": "Python 3 (ipykernel)",
   "language": "python",
   "name": "python3"
  },
  "language_info": {
   "codemirror_mode": {
    "name": "ipython",
    "version": 3
   },
   "file_extension": ".py",
   "mimetype": "text/x-python",
   "name": "python",
   "nbconvert_exporter": "python",
   "pygments_lexer": "ipython3",
   "version": "3.9.10"
  }
 },
 "nbformat": 4,
 "nbformat_minor": 5
}
