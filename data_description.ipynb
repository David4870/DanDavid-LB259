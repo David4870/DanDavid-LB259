{
 "cells": [
  {
   "cell_type": "markdown",
   "id": "4d805a8f",
   "metadata": {},
   "source": [
    "# Teil 2\n"
   ]
  },
  {
   "cell_type": "markdown",
   "id": "6f7a6b2c",
   "metadata": {},
   "source": [
    "## 2.1\n",
    "Für welches Daten-Feld möchten Sie Vorhersagen treffen können?"
   ]
  },
  {
   "cell_type": "code",
   "execution_count": null,
   "id": "d4517faf",
   "metadata": {},
   "outputs": [],
   "source": [
    "# Daten in einem Dataframe laden und testen\n",
    "import pandas as pd\n",
    "\n",
    "\n",
    "sales = pd.read_csv(\"supermarket_sales.csv\")\n",
    "\n",
    "sales.head()"
   ]
  },
  {
   "cell_type": "code",
   "execution_count": 21,
   "id": "225f8623",
   "metadata": {},
   "outputs": [],
   "source": [
    "# Auswahl target & features\n",
    "X = sales.drop(columns=[\"Branch\", \"Invoice ID\", \"City\", \"Customer type\", \"Gender\", \"Product line\", \"Quantity\", \"Tax 5%\",\n",
    "                       \"Total\", \"Date\", \"Time\", \"Payment\", \"cogs\", \"gross margin percentage\", \"gross income\"]) # features\n",
    "\n",
    "y = sales[\"City\"] # target"
   ]
  },
  {
   "cell_type": "markdown",
   "id": "bfb40e74",
   "metadata": {},
   "source": [
    "# 2.2\n",
    "Bestimmen Sie für jedes Feld einige relevanten statischen Informationen wie beispielsweise Median und Standardabweichung.\n",
    "\n",
    "> Statische Informationen über Felder die Zahlen enthalten\n",
    "> Bei kategorischen Informationen/Daten ist es nicht möglich. In meienm Fall ist es auch nicht sinnvoll die Kategorische Daten in Zahlen zu konvertieren, denn der Algorithmus den ich brauchen werde, ist fähig kategorische Daten zu erkennen, bzw. für den Target in meinem Fall."
   ]
  },
  {
   "cell_type": "code",
   "execution_count": null,
   "id": "cdc17a6b",
   "metadata": {
    "scrolled": true
   },
   "outputs": [],
   "source": [
    "sales.describe()"
   ]
  },
  {
   "cell_type": "markdown",
   "id": "ba852d6c",
   "metadata": {},
   "source": [
    "# 2.3\n",
    "Erstellen Sie mindestens eine Grafik, beispielsweise ein Histogramm für eines der Datenfelder oder eine Regression für mehrere Felder."
   ]
  },
  {
   "cell_type": "code",
   "execution_count": null,
   "id": "79252966",
   "metadata": {},
   "outputs": [],
   "source": [
    "import matplotlib\n",
    "import matplotlib.pyplot as plt\n",
    "\n",
    "with plt.xkcd():    \n",
    "    plt.hist(sales[\"Unit price\"], bins=range(0, 110, 10))\n",
    "    plt.suptitle(\"Prices\")    \n",
    "    plt.ylabel(\"Count\")\n",
    "    plt.xlabel(\"Unit price\")"
   ]
  },
  {
   "cell_type": "markdown",
   "id": "4b7a1509",
   "metadata": {},
   "source": [
    "## 2.4\n",
    "Skalieren Sie mindestens ein Datenfeld; oder argumentieren Sie in weiteren 50 bis 100 Wörtern in Ihrem Notizbuch, warum dies bei Ihrem Datensatz nicht sinnvoll ist."
   ]
  },
  {
   "cell_type": "code",
   "execution_count": null,
   "id": "378273e0",
   "metadata": {},
   "outputs": [],
   "source": [
    "tar = sales[\"Unit price\"]\n",
    "sales[\"unit_price_normalized\"] = (tar - tar.min() / (tar.max() - tar.min()))\n",
    "sales[\"unit_price_normalized\"].describe()"
   ]
  },
  {
   "cell_type": "markdown",
   "id": "f2b23bab",
   "metadata": {},
   "source": [
    "# 2.5\n",
    "Falls sich die Adresse Ihres repository geändert haben sollte, so senden Sie es via Formular an Ihre Lehrperson."
   ]
  },
  {
   "cell_type": "markdown",
   "id": "984bf5f2",
   "metadata": {},
   "source": [
    "`Adresse bleibt gleich`"
   ]
  }
 ],
 "metadata": {
  "kernelspec": {
   "display_name": "Python 3 (ipykernel)",
   "language": "python",
   "name": "python3"
  },
  "language_info": {
   "codemirror_mode": {
    "name": "ipython",
    "version": 3
   },
   "file_extension": ".py",
   "mimetype": "text/x-python",
   "name": "python",
   "nbconvert_exporter": "python",
   "pygments_lexer": "ipython3",
   "version": "3.9.10"
  }
 },
 "nbformat": 4,
 "nbformat_minor": 5
}
